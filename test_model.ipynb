{
 "cells": [
  {
   "cell_type": "code",
   "execution_count": 1,
   "metadata": {},
   "outputs": [
    {
     "name": "stdout",
     "output_type": "stream",
     "text": [
      "c:\\Users\\kagad\\Thesis_implementation\\Master_Thesis_MMDE_latest\n"
     ]
    }
   ],
   "source": [
    "%cd Master_Thesis_MMDE_latest/"
   ]
  },
  {
   "cell_type": "code",
   "execution_count": 2,
   "metadata": {},
   "outputs": [],
   "source": [
    "import os\n",
    "import glob\n",
    "import torch\n",
    "import torch.nn as nn\n",
    "import cv2\n",
    "import numpy as np\n",
    "from torch.utils.data import Dataset\n",
    "import torchvision.transforms as transforms\n",
    "from PIL import Image\n",
    "import matplotlib.pyplot as plt\n",
    "import torch.nn.functional as F\n",
    "import albumentations as A\n",
    "from albumentations.pytorch import ToTensorV2\n",
    "import random\n",
    "\n",
    "from dataset import TrainDataLoader,ValDataLoader\n",
    "\n",
    "from TransMIRNet import fusion_net"
   ]
  },
  {
   "cell_type": "code",
   "execution_count": 3,
   "metadata": {},
   "outputs": [],
   "source": [
    "def read_image(path):\n",
    "    img = cv2.imread(path)\n",
    "\n",
    "    img = cv2.cvtColor(img, cv2.COLOR_BGR2RGB)\n",
    "\n",
    "    return img\n",
    "\n",
    "def load_sparse_depth(input_sparse_depth_fp):\n",
    "    input_sparse_depth = np.array(Image.open(input_sparse_depth_fp), dtype=np.float32)/256\n",
    "    return input_sparse_depth"
   ]
  },
  {
   "cell_type": "code",
   "execution_count": null,
   "metadata": {},
   "outputs": [],
   "source": [
    "IMAGE_HEIGHT = 320\n",
    "IMAGE_WIDTH = 1280\n",
    "BATCH_SIZE = 1\n",
    "CROP_SCALE_HEIGHT = 0.4\n",
    "CROP_SCALE_WIDTH = 0.8"
   ]
  },
  {
   "cell_type": "code",
   "execution_count": 5,
   "metadata": {},
   "outputs": [],
   "source": [
    "train_transform = A.Compose([\n",
    "    A.OneOf([\n",
    "        A.RandomCrop(width=int(IMAGE_WIDTH * CROP_SCALE_WIDTH), height=int(IMAGE_HEIGHT * CROP_SCALE_HEIGHT), p=1),\n",
    "        A.CenterCrop(width=IMAGE_WIDTH, height=IMAGE_HEIGHT, p=1)\n",
    "    ], p=1),\n",
    "    \n",
    "    A.Resize(width=IMAGE_WIDTH, height=IMAGE_HEIGHT, p=1.0),\n",
    "    A.HorizontalFlip(p=0.5),\n",
    "    A.RandomBrightnessContrast(p=0.2),\n",
    "    A.Sharpen(p=0.2),\n",
    "    A.GaussNoise(var_limit=(10, 50),p=0.1),\n",
    "],\n",
    "    additional_targets={\n",
    "        \"radar_img\": \"mask\",\n",
    "        \"ground_truth\": \"mask\",\n",
    "        \"mmde_map\": \"mask\"\n",
    "    }\n",
    ")\n",
    "\n",
    "val_transform = A.Compose(\n",
    "    [\n",
    "        A.Resize(width=IMAGE_WIDTH, height=IMAGE_HEIGHT, p=1),\n",
    "    ],\n",
    "    additional_targets={\n",
    "    \"radar_img\": \"mask\",\n",
    "    \"ground_truth\": \"mask\",\n",
    "    \"mmde_map\": \"mask\"\n",
    "    }\n",
    ")\n",
    "\n",
    "\n",
    "\n",
    "\n"
   ]
  },
  {
   "cell_type": "code",
   "execution_count": 16,
   "metadata": {},
   "outputs": [
    {
     "name": "stdout",
     "output_type": "stream",
     "text": [
      "Mean: [0.4305, 0.4467, 0.4153]\n",
      "Std: [0.2429, 0.2342, 0.2411]\n"
     ]
    }
   ],
   "source": [
    "import ast\n",
    "# read from file\n",
    "file_path = os.path.join(\"outputs\", \"mean_depth_dataset.txt\")\n",
    "\n",
    "with open(file_path, mode=\"r\") as f:\n",
    "    lines = f.readlines()\n",
    "\n",
    "mean_line = lines[0].split()[1:]\n",
    "std_line = lines[1].split()[1:]\n",
    "\n",
    "MEAN = ast.literal_eval(\" \".join(mean_line))\n",
    "STD = ast.literal_eval(\" \".join(std_line))\n",
    "\n",
    "print(\"Mean:\", MEAN)\n",
    "print(\"Std:\", STD)"
   ]
  },
  {
   "cell_type": "code",
   "execution_count": 17,
   "metadata": {},
   "outputs": [],
   "source": [
    "image_folder = \"../data/image\"\n",
    "mmde_map_path = \"../data/mmde_map\"\n",
    "gt_path = \"../data/gt_interp\"\n",
    "radar_path =\"../data/radar_png\"\n",
    "\n",
    "image_paths = glob.glob(os.path.join(image_folder, '*.*'))\n",
    "mmde_map = glob.glob(os.path.join(mmde_map_path, '*.*'))\n",
    "ground_truth_paths = glob.glob(os.path.join(gt_path, '*.*'))\n",
    "radar_paths = glob.glob(os.path.join(radar_path, '*.*'))\n",
    "\n",
    "from sklearn.model_selection import train_test_split\n",
    "\n",
    "# Split the dataset into training and validation sets\n",
    "train_image_paths, val_image_paths, train_mmde_map, val_mmde_map, train_radar_paths, val_radar_paths, train_gt_paths, val_gt_paths = train_test_split(\n",
    "    image_paths, mmde_map, radar_paths, ground_truth_paths, test_size=0.2, random_state=42)"
   ]
  },
  {
   "cell_type": "code",
   "execution_count": 18,
   "metadata": {},
   "outputs": [],
   "source": [
    "train_dataset = TrainDataLoader(image_paths=train_image_paths,\n",
    "                                mmde_path = train_mmde_map,\n",
    "                                radar_paths = train_radar_paths,\n",
    "                                ground_truth_paths = train_gt_paths,\n",
    "                                transform=train_transform,\n",
    "                                mean=MEAN,\n",
    "                                std=STD)\n",
    "\n",
    "val_dataset = ValDataLoader(image_paths=val_image_paths,\n",
    "                            mmde_path = val_mmde_map,\n",
    "                            radar_paths = val_radar_paths,\n",
    "                            ground_truth_paths = val_gt_paths,\n",
    "                            transform=val_transform,\n",
    "                            )"
   ]
  },
  {
   "cell_type": "code",
   "execution_count": 19,
   "metadata": {},
   "outputs": [],
   "source": [
    "train_dataloader = torch.utils.data.DataLoader(train_dataset, batch_size=1, shuffle=True, pin_memory=True, num_workers=0)\n"
   ]
  },
  {
   "cell_type": "code",
   "execution_count": 20,
   "metadata": {},
   "outputs": [],
   "source": [
    "val_dataloader = torch.utils.data.DataLoader(val_dataset, batch_size=1, shuffle=False, pin_memory=True, num_workers=0)"
   ]
  },
  {
   "cell_type": "code",
   "execution_count": 21,
   "metadata": {},
   "outputs": [],
   "source": [
    "image, mmde, radar, gt = next(iter(train_dataloader))"
   ]
  },
  {
   "cell_type": "code",
   "execution_count": 22,
   "metadata": {},
   "outputs": [
    {
     "name": "stderr",
     "output_type": "stream",
     "text": [
      "Clipping input data to the valid range for imshow with RGB data ([0..1] for floats or [0..255] for integers). Got range [-1.7400447..2.4251347].\n"
     ]
    },
    {
     "data": {
      "image/png": "[encoded data removed]",
      "text/plain": [
       "<Figure size 2000x2000 with 4 Axes>"
      ]
     },
     "metadata": {},
     "output_type": "display_data"
    }
   ],
   "source": [
    "plt.figure(figsize=(20, 20))\n",
    "plt.subplot(1, 4, 1)\n",
    "plt.imshow(image[0].permute(1, 2, 0), cmap='tab20b')\n",
    "plt.title(\"Image\")\n",
    "plt.subplot(1, 4, 2)\n",
    "plt.imshow(mmde[0].permute(1, 2, 0), cmap='tab20b')\n",
    "plt.title(\"MMDE\")\n",
    "plt.subplot(1, 4, 3)\n",
    "plt.imshow(radar[0].permute(1, 2, 0), cmap='tab20b')\n",
    "plt.subplot(1, 4, 4)\n",
    "plt.imshow(gt[0].permute(1, 2, 0), cmap='tab20b')\n",
    "plt.title(\"Ground Truth\")\n",
    "plt.show()"
   ]
  },
  {
   "cell_type": "code",
   "execution_count": 26,
   "metadata": {},
   "outputs": [],
   "source": [
    "class Params:\n",
    "    def __init__(self):\n",
    "        self.radar_input_channels = 1\n",
    "        self.encoder_radar = 'resnet18'\n",
    "        self.mmde_encoder = \"resnet18\"\n",
    "        self.activation = 'elu' # why?\n",
    "        self.encoder = 'resnet34'\n",
    "        self.max_depth = 4\n",
    "params = Params()"
   ]
  },
  {
   "cell_type": "code",
   "execution_count": 27,
   "metadata": {},
   "outputs": [
    {
     "name": "stderr",
     "output_type": "stream",
     "text": [
      "c:\\Users\\kagad\\anaconda\\Lib\\site-packages\\torchvision\\models\\_utils.py:208: UserWarning: The parameter 'pretrained' is deprecated since 0.13 and may be removed in the future, please use 'weights' instead.\n",
      "  warnings.warn(\n",
      "c:\\Users\\kagad\\anaconda\\Lib\\site-packages\\torchvision\\models\\_utils.py:223: UserWarning: Arguments other than a weight enum or `None` for 'weights' are deprecated since 0.13 and may be removed in the future. The current behavior is equivalent to passing `weights=ResNet34_Weights.IMAGENET1K_V1`. You can also use `weights=ResNet34_Weights.DEFAULT` to get the most up-to-date weights.\n",
      "  warnings.warn(msg)\n",
      "c:\\Users\\kagad\\anaconda\\Lib\\site-packages\\torchvision\\models\\_utils.py:223: UserWarning: Arguments other than a weight enum or `None` for 'weights' are deprecated since 0.13 and may be removed in the future. The current behavior is equivalent to passing `weights=ResNet18_Weights.IMAGENET1K_V1`. You can also use `weights=ResNet18_Weights.DEFAULT` to get the most up-to-date weights.\n",
      "  warnings.warn(msg)\n"
     ]
    }
   ],
   "source": [
    "model = fusion_net(params)"
   ]
  },
  {
   "cell_type": "code",
   "execution_count": null,
   "metadata": {},
   "outputs": [],
   "source": []
  },
  {
   "cell_type": "code",
   "execution_count": 29,
   "metadata": {},
   "outputs": [
    {
     "data": {
      "text/plain": [
       "(device(type='cuda'), torch.device)"
      ]
     },
     "execution_count": 29,
     "metadata": {},
     "output_type": "execute_result"
    }
   ],
   "source": [
    "# hyperparameterss\n",
    "lr = max_lr = 1e-3\n",
    "weight_decay = 1e-2\n",
    "num_epochs = 10\n",
    "DEVICE = torch.device('cuda' if torch.cuda.is_available() else 'cpu')\n",
    "DEVICE, type(DEVICE)"
   ]
  },
  {
   "cell_type": "code",
   "execution_count": 30,
   "metadata": {},
   "outputs": [
    {
     "name": "stdout",
     "output_type": "stream",
     "text": [
      "Number of samples: Train: 14 | Val: 4\n",
      "Number of steps: Train: 14 | Val: 4\n"
     ]
    }
   ],
   "source": [
    "# INFO\n",
    "num_train_samples = len(train_dataloader.dataset)\n",
    "num_val_samples = len(val_dataloader.dataset)\n",
    "\n",
    "num_train_steps = len(train_dataloader)\n",
    "num_val_steps = len(val_dataloader)\n",
    "\n",
    "print(f\"Number of samples: Train: {num_train_samples} | Val: {num_val_samples}\")\n",
    "print(f\"Number of steps: Train: {num_train_steps} | Val: {num_val_steps}\")"
   ]
  },
  {
   "cell_type": "code",
   "execution_count": 31,
   "metadata": {},
   "outputs": [],
   "source": [
    "# loss function\n",
    "from loss import l1_loss\n",
    "\n",
    "criterial = l1_loss()\n",
    "\n",
    "# optimizer\n",
    "optimizer = torch.optim.AdamW(model.parameters(),lr=lr, weight_decay=weight_decay)\n",
    "\n",
    "# scheduler\n",
    "scheduler = torch.optim.lr_scheduler.OneCycleLR(\n",
    "    optimizer,\n",
    "    max_lr=max_lr, # max_lr = 1e-3\n",
    "    epochs=num_epochs,\n",
    "    steps_per_epoch=len(train_dataloader),\n",
    "    div_factor=10, # initial lr = max_lr/div_factor\n",
    "    pct_start=0.3, #decay start at 30% of the total epochs\n",
    "    anneal_strategy='cos' # anneal strategy\n",
    ")"
   ]
  },
  {
   "cell_type": "code",
   "execution_count": 32,
   "metadata": {},
   "outputs": [],
   "source": [
    "# # callbacks\n",
    "# early_stopping = EarlyStopping(patience=20, verbose=True)\n",
    "# checkpoint = Checkpoint(\n",
    "#     root_dir=\"depth_experiment\",\n",
    "#     experiment_name=\"deph_head\",\n",
    "#     checkpoint_name=\"model_depth\",\n",
    "#     save_model_only=True\n",
    "# )"
   ]
  },
  {
   "cell_type": "code",
   "execution_count": 33,
   "metadata": {},
   "outputs": [],
   "source": [
    "from lightning.fabric import Fabric\n",
    "\n",
    "torch.set_float32_matmul_precision('medium')\n",
    "\n",
    "fabric = Fabric(accelerator=\"gpu\", precision=\"32\") # precision = \"32\" / \"16-mixed\" / \"bf16-mixed\"\n",
    "\n",
    "model, optimizer = fabric.setup(model, optimizer)\n",
    "train_dataloader, val_dataloader = fabric.setup_dataloaders(train_dataloader, val_dataloader)"
   ]
  },
  {
   "cell_type": "code",
   "execution_count": 34,
   "metadata": {},
   "outputs": [],
   "source": [
    "from evaluation_ import compute_metrics,display_metrics"
   ]
  },
  {
   "cell_type": "code",
   "execution_count": 35,
   "metadata": {},
   "outputs": [],
   "source": [
    "import wandb\n",
    "from tqdm.notebook import tqdm\n",
    "from prettytable import PrettyTable"
   ]
  },
  {
   "cell_type": "code",
   "execution_count": 36,
   "metadata": {},
   "outputs": [
    {
     "name": "stderr",
     "output_type": "stream",
     "text": [
      "Failed to detect the name of this notebook, you can set it manually with the WANDB_NOTEBOOK_NAME environment variable to enable code saving.\n",
      "\u001b[34m\u001b[1mwandb\u001b[0m: Currently logged in as: \u001b[33mvik7086\u001b[0m (\u001b[33mvik7086-technische-hochschule-ingolstadt\u001b[0m). Use \u001b[1m`wandb login --relogin`\u001b[0m to force relogin\n"
     ]
    },
    {
     "data": {
      "text/html": [
       "wandb version 0.18.7 is available!  To upgrade, please run:\n",
       " $ pip install wandb --upgrade"
      ],
      "text/plain": [
       "<IPython.core.display.HTML object>"
      ]
     },
     "metadata": {},
     "output_type": "display_data"
    },
    {
     "data": {
      "text/html": [
       "Tracking run with wandb version 0.17.2"
      ],
      "text/plain": [
       "<IPython.core.display.HTML object>"
      ]
     },
     "metadata": {},
     "output_type": "display_data"
    },
    {
     "data": {
      "text/html": [
       "Run data is saved locally in <code>c:\\Users\\kagad\\Thesis_implementation\\Master_Thesis_MMDE_latest\\wandb\\run-20241125_110348-704dnder</code>"
      ],
      "text/plain": [
       "<IPython.core.display.HTML object>"
      ]
     },
     "metadata": {},
     "output_type": "display_data"
    },
    {
     "data": {
      "text/html": [
       "Syncing run <strong><a href='https://wandb.ai/vik7086-technische-hochschule-ingolstadt/thesis/runs/704dnder' target=\"_blank\">stellar-puddle-11</a></strong> to <a href='https://wandb.ai/vik7086-technische-hochschule-ingolstadt/thesis' target=\"_blank\">Weights & Biases</a> (<a href='https://wandb.me/run' target=\"_blank\">docs</a>)<br/>"
      ],
      "text/plain": [
       "<IPython.core.display.HTML object>"
      ]
     },
     "metadata": {},
     "output_type": "display_data"
    },
    {
     "data": {
      "text/html": [
       " View project at <a href='https://wandb.ai/vik7086-technische-hochschule-ingolstadt/thesis' target=\"_blank\">https://wandb.ai/vik7086-technische-hochschule-ingolstadt/thesis</a>"
      ],
      "text/plain": [
       "<IPython.core.display.HTML object>"
      ]
     },
     "metadata": {},
     "output_type": "display_data"
    },
    {
     "data": {
      "text/html": [
       " View run at <a href='https://wandb.ai/vik7086-technische-hochschule-ingolstadt/thesis/runs/704dnder' target=\"_blank\">https://wandb.ai/vik7086-technische-hochschule-ingolstadt/thesis/runs/704dnder</a>"
      ],
      "text/plain": [
       "<IPython.core.display.HTML object>"
      ]
     },
     "metadata": {},
     "output_type": "display_data"
    },
    {
     "data": {
      "text/html": [
       "<button onClick=\"this.nextSibling.style.display='block';this.style.display='none';\">Display W&B run</button><iframe src='https://wandb.ai/vik7086-technische-hochschule-ingolstadt/thesis/runs/704dnder?jupyter=true' style='border:none;width:100%;height:420px;display:none;'></iframe>"
      ],
      "text/plain": [
       "<wandb.sdk.wandb_run.Run at 0x1ffb7277b90>"
      ]
     },
     "execution_count": 36,
     "metadata": {},
     "output_type": "execute_result"
    }
   ],
   "source": [
    "wandb.init(project=\"thesis\", config={\"learning_rate\": scheduler.get_last_lr()[0], \"epochs\": num_epochs, \"batch_size\": train_dataloader.batch_size})"
   ]
  },
  {
   "cell_type": "code",
   "execution_count": 39,
   "metadata": {},
   "outputs": [],
   "source": [
    "def train_one_epoch(model, dataloader, optimizer, scheduler, criterion, fabric, epoch, num_steps, mode=\"train\", eval_step=5):\n",
    "    is_training = (mode == \"train\")\n",
    "    if is_training:\n",
    "      model.train()\n",
    "    else:\n",
    "      model.eval()\n",
    "    prefix = \"train\" if is_training else \"val\"\n",
    "\n",
    "    running_loss = 0.0\n",
    "    accumulated_metrics = {key: 0.0 for key in [\"silog\", \"abs_rel\", \"log10\", \"rms\", \"sq_rel\", \"log_rms\", \"mae\", \"d1\", \"d2\", \"d3\"]}\n",
    "    pbar = tqdm(enumerate(dataloader, start=1), total=num_steps, leave=True)\n",
    "\n",
    "    for steps, (image, mmde_map, radar_img, ground_truth) in pbar:\n",
    "        if is_training:\n",
    "            optimizer.zero_grad()\n",
    "\n",
    "            # Forward pass\n",
    "            outputs = model(image, radar_img, mmde_map)\n",
    "            mask = outputs > 0.01\n",
    "            loss = criterion(outputs, ground_truth,mask)\n",
    "\n",
    "            fabric.clip_gradients(model, optimizer, max_norm=2.0, error_if_nonfinite=False)\n",
    "            # Backward pass and optimization (only if training)\n",
    "            fabric.backward(loss)\n",
    "            optimizer.step()\n",
    "\n",
    "        else:  # Validation mode\n",
    "            with torch.no_grad():\n",
    "                outputs = model(image, radar_img, mmde_map)\n",
    "                mask = outputs > 0.01\n",
    "                valid_pixels = torch.sum(mask).item()\n",
    "                #print(f\"Number of valid pixels in mask: {valid_pixels}\")\n",
    "                loss = criterion(outputs, ground_truth,mask)\n",
    "\n",
    "        running_loss += loss.item()\n",
    "    if is_training:\n",
    "      scheduler.step()\n",
    "    final_loss = running_loss / num_steps\n",
    "\n",
    "\n",
    "    pbar.set_description(f\"Epoch: [{epoch}/{num_epochs}]\")\n",
    "    pbar.set_postfix({f\"{prefix}_loss\": final_loss, \"lr\": scheduler.get_last_lr()[0]})\n",
    "\n",
    "    wandb.log({f\"{prefix}_epoch_loss\": final_loss, \"epoch\": epoch})\n",
    "\n",
    "    return final_loss"
   ]
  },
  {
   "cell_type": "code",
   "execution_count": 40,
   "metadata": {},
   "outputs": [
    {
     "data": {
      "application/vnd.jupyter.widget-view+json": {
       "model_id": "2c1100edd60c4974bfc23ab9529cda95",
       "version_major": 2,
       "version_minor": 0
      },
      "text/plain": [
       "  0%|          | 0/14 [00:00<?, ?it/s]"
      ]
     },
     "metadata": {},
     "output_type": "display_data"
    },
    {
     "data": {
      "application/vnd.jupyter.widget-view+json": {
       "model_id": "db7e5d1be81a43ce9991a112f39bacd1",
       "version_major": 2,
       "version_minor": 0
      },
      "text/plain": [
       "  0%|          | 0/4 [00:00<?, ?it/s]"
      ]
     },
     "metadata": {},
     "output_type": "display_data"
    },
    {
     "name": "stdout",
     "output_type": "stream",
     "text": [
      "Epoch 1: Train Loss = 5.6504, Validation Loss = 192.3713\n"
     ]
    },
    {
     "data": {
      "application/vnd.jupyter.widget-view+json": {
       "model_id": "59655a32d7c74537b25192bcba66a70a",
       "version_major": 2,
       "version_minor": 0
      },
      "text/plain": [
       "  0%|          | 0/14 [00:00<?, ?it/s]"
      ]
     },
     "metadata": {},
     "output_type": "display_data"
    },
    {
     "data": {
      "application/vnd.jupyter.widget-view+json": {
       "model_id": "0a19feb7ae754a78a0b1611b4df6bf30",
       "version_major": 2,
       "version_minor": 0
      },
      "text/plain": [
       "  0%|          | 0/4 [00:00<?, ?it/s]"
      ]
     },
     "metadata": {},
     "output_type": "display_data"
    },
    {
     "name": "stdout",
     "output_type": "stream",
     "text": [
      "Epoch 2: Train Loss = 5.3543, Validation Loss = 196.2631\n"
     ]
    },
    {
     "data": {
      "application/vnd.jupyter.widget-view+json": {
       "model_id": "5c2fdba2981e45318bd719018d603b45",
       "version_major": 2,
       "version_minor": 0
      },
      "text/plain": [
       "  0%|          | 0/14 [00:00<?, ?it/s]"
      ]
     },
     "metadata": {},
     "output_type": "display_data"
    },
    {
     "data": {
      "application/vnd.jupyter.widget-view+json": {
       "model_id": "795fe97e0dbd49cbab204e7e97e67fe9",
       "version_major": 2,
       "version_minor": 0
      },
      "text/plain": [
       "  0%|          | 0/4 [00:00<?, ?it/s]"
      ]
     },
     "metadata": {},
     "output_type": "display_data"
    },
    {
     "name": "stdout",
     "output_type": "stream",
     "text": [
      "Epoch 3: Train Loss = 5.1474, Validation Loss = 260.4362\n"
     ]
    },
    {
     "data": {
      "application/vnd.jupyter.widget-view+json": {
       "model_id": "f29d79fc517945918a4f3f2dad8a781c",
       "version_major": 2,
       "version_minor": 0
      },
      "text/plain": [
       "  0%|          | 0/14 [00:00<?, ?it/s]"
      ]
     },
     "metadata": {},
     "output_type": "display_data"
    },
    {
     "data": {
      "application/vnd.jupyter.widget-view+json": {
       "model_id": "cebca75f5fbd4017be6d8f055fbac30c",
       "version_major": 2,
       "version_minor": 0
      },
      "text/plain": [
       "  0%|          | 0/4 [00:00<?, ?it/s]"
      ]
     },
     "metadata": {},
     "output_type": "display_data"
    },
    {
     "name": "stdout",
     "output_type": "stream",
     "text": [
      "Epoch 4: Train Loss = 4.8109, Validation Loss = 279.0897\n"
     ]
    },
    {
     "data": {
      "application/vnd.jupyter.widget-view+json": {
       "model_id": "1a1f3ae401a0461e946e4b3393158ad9",
       "version_major": 2,
       "version_minor": 0
      },
      "text/plain": [
       "  0%|          | 0/14 [00:00<?, ?it/s]"
      ]
     },
     "metadata": {},
     "output_type": "display_data"
    },
    {
     "data": {
      "application/vnd.jupyter.widget-view+json": {
       "model_id": "1e85d35ae91c4c36beeb4f2c01f3ab80",
       "version_major": 2,
       "version_minor": 0
      },
      "text/plain": [
       "  0%|          | 0/4 [00:00<?, ?it/s]"
      ]
     },
     "metadata": {},
     "output_type": "display_data"
    },
    {
     "name": "stdout",
     "output_type": "stream",
     "text": [
      "Epoch 5: Train Loss = 3.3793, Validation Loss = 262.2200\n"
     ]
    },
    {
     "data": {
      "application/vnd.jupyter.widget-view+json": {
       "model_id": "6b295b6fbca248dd8523d00ab9cbfc82",
       "version_major": 2,
       "version_minor": 0
      },
      "text/plain": [
       "  0%|          | 0/14 [00:00<?, ?it/s]"
      ]
     },
     "metadata": {},
     "output_type": "display_data"
    },
    {
     "data": {
      "application/vnd.jupyter.widget-view+json": {
       "model_id": "7116c866e70a43d4a4e3f5495eb0fa27",
       "version_major": 2,
       "version_minor": 0
      },
      "text/plain": [
       "  0%|          | 0/4 [00:00<?, ?it/s]"
      ]
     },
     "metadata": {},
     "output_type": "display_data"
    },
    {
     "name": "stdout",
     "output_type": "stream",
     "text": [
      "Epoch 6: Train Loss = 3.1961, Validation Loss = 324.9269\n"
     ]
    },
    {
     "data": {
      "application/vnd.jupyter.widget-view+json": {
       "model_id": "ccb7ee161d284b79b43a44a8e3603601",
       "version_major": 2,
       "version_minor": 0
      },
      "text/plain": [
       "  0%|          | 0/14 [00:00<?, ?it/s]"
      ]
     },
     "metadata": {},
     "output_type": "display_data"
    },
    {
     "data": {
      "application/vnd.jupyter.widget-view+json": {
       "model_id": "bade51b2df0945028302b8ec90ae8579",
       "version_major": 2,
       "version_minor": 0
      },
      "text/plain": [
       "  0%|          | 0/4 [00:00<?, ?it/s]"
      ]
     },
     "metadata": {},
     "output_type": "display_data"
    },
    {
     "name": "stdout",
     "output_type": "stream",
     "text": [
      "Epoch 7: Train Loss = 3.1127, Validation Loss = 283.6064\n"
     ]
    },
    {
     "data": {
      "application/vnd.jupyter.widget-view+json": {
       "model_id": "bb752ebb45e142ea93c711c0d0d6490a",
       "version_major": 2,
       "version_minor": 0
      },
      "text/plain": [
       "  0%|          | 0/14 [00:00<?, ?it/s]"
      ]
     },
     "metadata": {},
     "output_type": "display_data"
    },
    {
     "data": {
      "application/vnd.jupyter.widget-view+json": {
       "model_id": "2f9ca7dfb292491cb332f8f39f9ffb24",
       "version_major": 2,
       "version_minor": 0
      },
      "text/plain": [
       "  0%|          | 0/4 [00:00<?, ?it/s]"
      ]
     },
     "metadata": {},
     "output_type": "display_data"
    },
    {
     "name": "stdout",
     "output_type": "stream",
     "text": [
      "Epoch 8: Train Loss = 4.8635, Validation Loss = 340.3813\n"
     ]
    },
    {
     "data": {
      "application/vnd.jupyter.widget-view+json": {
       "model_id": "b5d3db215c6e4855803f3d18153173da",
       "version_major": 2,
       "version_minor": 0
      },
      "text/plain": [
       "  0%|          | 0/14 [00:00<?, ?it/s]"
      ]
     },
     "metadata": {},
     "output_type": "display_data"
    },
    {
     "data": {
      "application/vnd.jupyter.widget-view+json": {
       "model_id": "503a61c2adc04c67b3658be4d345c17d",
       "version_major": 2,
       "version_minor": 0
      },
      "text/plain": [
       "  0%|          | 0/4 [00:00<?, ?it/s]"
      ]
     },
     "metadata": {},
     "output_type": "display_data"
    },
    {
     "name": "stdout",
     "output_type": "stream",
     "text": [
      "Epoch 9: Train Loss = 3.0280, Validation Loss = 285.1107\n"
     ]
    },
    {
     "data": {
      "application/vnd.jupyter.widget-view+json": {
       "model_id": "4de49f77bd2240a98f7bfd45666455bc",
       "version_major": 2,
       "version_minor": 0
      },
      "text/plain": [
       "  0%|          | 0/14 [00:00<?, ?it/s]"
      ]
     },
     "metadata": {},
     "output_type": "display_data"
    },
    {
     "data": {
      "application/vnd.jupyter.widget-view+json": {
       "model_id": "ab3c6202ff57418ea6afdd0aef2a93b5",
       "version_major": 2,
       "version_minor": 0
      },
      "text/plain": [
       "  0%|          | 0/4 [00:00<?, ?it/s]"
      ]
     },
     "metadata": {},
     "output_type": "display_data"
    },
    {
     "name": "stdout",
     "output_type": "stream",
     "text": [
      "Epoch 10: Train Loss = 4.0101, Validation Loss = 312.3729\n"
     ]
    },
    {
     "data": {
      "application/vnd.jupyter.widget-view+json": {
       "model_id": "ff6163739eaa4086826c7754b24aa42b",
       "version_major": 2,
       "version_minor": 0
      },
      "text/plain": [
       "  0%|          | 0/14 [00:00<?, ?it/s]"
      ]
     },
     "metadata": {},
     "output_type": "display_data"
    },
    {
     "data": {
      "application/vnd.jupyter.widget-view+json": {
       "model_id": "c3eae4f123414f74849bb313e66d9742",
       "version_major": 2,
       "version_minor": 0
      },
      "text/plain": [
       "  0%|          | 0/4 [00:00<?, ?it/s]"
      ]
     },
     "metadata": {},
     "output_type": "display_data"
    },
    {
     "name": "stdout",
     "output_type": "stream",
     "text": [
      "Epoch 11: Train Loss = 3.7251, Validation Loss = 267.7428\n"
     ]
    },
    {
     "data": {
      "application/vnd.jupyter.widget-view+json": {
       "model_id": "23d48910f2664072957d1cc8471bfbe7",
       "version_major": 2,
       "version_minor": 0
      },
      "text/plain": [
       "  0%|          | 0/14 [00:00<?, ?it/s]"
      ]
     },
     "metadata": {},
     "output_type": "display_data"
    },
    {
     "data": {
      "application/vnd.jupyter.widget-view+json": {
       "model_id": "bf4776741c874448a3ab71c66cca826e",
       "version_major": 2,
       "version_minor": 0
      },
      "text/plain": [
       "  0%|          | 0/4 [00:00<?, ?it/s]"
      ]
     },
     "metadata": {},
     "output_type": "display_data"
    },
    {
     "name": "stdout",
     "output_type": "stream",
     "text": [
      "Epoch 12: Train Loss = 4.1064, Validation Loss = 342.1148\n"
     ]
    },
    {
     "data": {
      "application/vnd.jupyter.widget-view+json": {
       "model_id": "17474f64b72b4543a8a70e686d3b2b7b",
       "version_major": 2,
       "version_minor": 0
      },
      "text/plain": [
       "  0%|          | 0/14 [00:00<?, ?it/s]"
      ]
     },
     "metadata": {},
     "output_type": "display_data"
    },
    {
     "data": {
      "application/vnd.jupyter.widget-view+json": {
       "model_id": "da39a3db03a949f48d8bcad6d7364c2d",
       "version_major": 2,
       "version_minor": 0
      },
      "text/plain": [
       "  0%|          | 0/4 [00:00<?, ?it/s]"
      ]
     },
     "metadata": {},
     "output_type": "display_data"
    },
    {
     "name": "stdout",
     "output_type": "stream",
     "text": [
      "Epoch 13: Train Loss = 4.1627, Validation Loss = 328.5126\n"
     ]
    },
    {
     "data": {
      "application/vnd.jupyter.widget-view+json": {
       "model_id": "7153ffdf127f4a30b016a470017cdce5",
       "version_major": 2,
       "version_minor": 0
      },
      "text/plain": [
       "  0%|          | 0/14 [00:00<?, ?it/s]"
      ]
     },
     "metadata": {},
     "output_type": "display_data"
    },
    {
     "data": {
      "application/vnd.jupyter.widget-view+json": {
       "model_id": "c17c8a44d0d84307b5dfe5043f3ce28c",
       "version_major": 2,
       "version_minor": 0
      },
      "text/plain": [
       "  0%|          | 0/4 [00:00<?, ?it/s]"
      ]
     },
     "metadata": {},
     "output_type": "display_data"
    },
    {
     "name": "stdout",
     "output_type": "stream",
     "text": [
      "Epoch 14: Train Loss = 3.6730, Validation Loss = 314.1256\n"
     ]
    },
    {
     "data": {
      "application/vnd.jupyter.widget-view+json": {
       "model_id": "9b8cd97f000f4373a3b1c887cb60e8ec",
       "version_major": 2,
       "version_minor": 0
      },
      "text/plain": [
       "  0%|          | 0/14 [00:00<?, ?it/s]"
      ]
     },
     "metadata": {},
     "output_type": "display_data"
    },
    {
     "data": {
      "application/vnd.jupyter.widget-view+json": {
       "model_id": "b4ca5aa8c095482fbb7e6b6a7d370859",
       "version_major": 2,
       "version_minor": 0
      },
      "text/plain": [
       "  0%|          | 0/4 [00:00<?, ?it/s]"
      ]
     },
     "metadata": {},
     "output_type": "display_data"
    },
    {
     "name": "stdout",
     "output_type": "stream",
     "text": [
      "Epoch 15: Train Loss = 3.3947, Validation Loss = 295.8911\n"
     ]
    },
    {
     "data": {
      "application/vnd.jupyter.widget-view+json": {
       "model_id": "c62abf04e3da4b45b221268763b22828",
       "version_major": 2,
       "version_minor": 0
      },
      "text/plain": [
       "  0%|          | 0/14 [00:00<?, ?it/s]"
      ]
     },
     "metadata": {},
     "output_type": "display_data"
    },
    {
     "data": {
      "application/vnd.jupyter.widget-view+json": {
       "model_id": "f442089f4daa446dbf966063f6d4a434",
       "version_major": 2,
       "version_minor": 0
      },
      "text/plain": [
       "  0%|          | 0/4 [00:00<?, ?it/s]"
      ]
     },
     "metadata": {},
     "output_type": "display_data"
    },
    {
     "name": "stdout",
     "output_type": "stream",
     "text": [
      "Epoch 16: Train Loss = 3.8600, Validation Loss = 315.3279\n"
     ]
    },
    {
     "data": {
      "application/vnd.jupyter.widget-view+json": {
       "model_id": "9458c68bbe92420c9247692a82ff2599",
       "version_major": 2,
       "version_minor": 0
      },
      "text/plain": [
       "  0%|          | 0/14 [00:00<?, ?it/s]"
      ]
     },
     "metadata": {},
     "output_type": "display_data"
    },
    {
     "data": {
      "application/vnd.jupyter.widget-view+json": {
       "model_id": "e0413555c2b047a7a192d668ac08c9ef",
       "version_major": 2,
       "version_minor": 0
      },
      "text/plain": [
       "  0%|          | 0/4 [00:00<?, ?it/s]"
      ]
     },
     "metadata": {},
     "output_type": "display_data"
    },
    {
     "name": "stdout",
     "output_type": "stream",
     "text": [
      "Epoch 17: Train Loss = 3.9881, Validation Loss = 280.8095\n"
     ]
    },
    {
     "data": {
      "application/vnd.jupyter.widget-view+json": {
       "model_id": "7a6bb79ef1a4444a9f2f6d15eb0b29c3",
       "version_major": 2,
       "version_minor": 0
      },
      "text/plain": [
       "  0%|          | 0/14 [00:00<?, ?it/s]"
      ]
     },
     "metadata": {},
     "output_type": "display_data"
    },
    {
     "data": {
      "application/vnd.jupyter.widget-view+json": {
       "model_id": "2b677954d16344d0a8ff3d2bf71dc936",
       "version_major": 2,
       "version_minor": 0
      },
      "text/plain": [
       "  0%|          | 0/4 [00:00<?, ?it/s]"
      ]
     },
     "metadata": {},
     "output_type": "display_data"
    },
    {
     "name": "stdout",
     "output_type": "stream",
     "text": [
      "Epoch 18: Train Loss = 3.0026, Validation Loss = 260.9529\n"
     ]
    },
    {
     "data": {
      "application/vnd.jupyter.widget-view+json": {
       "model_id": "e6b618ea433b48b1b86a3ca950ef672e",
       "version_major": 2,
       "version_minor": 0
      },
      "text/plain": [
       "  0%|          | 0/14 [00:00<?, ?it/s]"
      ]
     },
     "metadata": {},
     "output_type": "display_data"
    },
    {
     "data": {
      "application/vnd.jupyter.widget-view+json": {
       "model_id": "43e1db9dd82443538ac2c9d6924f47d1",
       "version_major": 2,
       "version_minor": 0
      },
      "text/plain": [
       "  0%|          | 0/4 [00:00<?, ?it/s]"
      ]
     },
     "metadata": {},
     "output_type": "display_data"
    },
    {
     "name": "stdout",
     "output_type": "stream",
     "text": [
      "Epoch 19: Train Loss = 3.0551, Validation Loss = 270.9722\n"
     ]
    },
    {
     "data": {
      "application/vnd.jupyter.widget-view+json": {
       "model_id": "6c79808ae7e24aefbc7ce8f112a66e20",
       "version_major": 2,
       "version_minor": 0
      },
      "text/plain": [
       "  0%|          | 0/14 [00:00<?, ?it/s]"
      ]
     },
     "metadata": {},
     "output_type": "display_data"
    },
    {
     "data": {
      "application/vnd.jupyter.widget-view+json": {
       "model_id": "e19b2ec4bfa2401b80232cc07ab9d143",
       "version_major": 2,
       "version_minor": 0
      },
      "text/plain": [
       "  0%|          | 0/4 [00:00<?, ?it/s]"
      ]
     },
     "metadata": {},
     "output_type": "display_data"
    },
    {
     "name": "stdout",
     "output_type": "stream",
     "text": [
      "Epoch 20: Train Loss = 6.8028, Validation Loss = 262.8994\n"
     ]
    },
    {
     "data": {
      "application/vnd.jupyter.widget-view+json": {
       "model_id": "ebfb7da67f934596a55739ea5f5392f6",
       "version_major": 2,
       "version_minor": 0
      },
      "text/plain": [
       "  0%|          | 0/14 [00:00<?, ?it/s]"
      ]
     },
     "metadata": {},
     "output_type": "display_data"
    },
    {
     "data": {
      "application/vnd.jupyter.widget-view+json": {
       "model_id": "ad0642f638344b3b9865b89ca706c4ab",
       "version_major": 2,
       "version_minor": 0
      },
      "text/plain": [
       "  0%|          | 0/4 [00:00<?, ?it/s]"
      ]
     },
     "metadata": {},
     "output_type": "display_data"
    },
    {
     "name": "stdout",
     "output_type": "stream",
     "text": [
      "Epoch 21: Train Loss = 7.7643, Validation Loss = 236.4192\n"
     ]
    },
    {
     "data": {
      "application/vnd.jupyter.widget-view+json": {
       "model_id": "03a1f0519bcd4c639d6e4ec9a96e59d8",
       "version_major": 2,
       "version_minor": 0
      },
      "text/plain": [
       "  0%|          | 0/14 [00:00<?, ?it/s]"
      ]
     },
     "metadata": {},
     "output_type": "display_data"
    },
    {
     "data": {
      "application/vnd.jupyter.widget-view+json": {
       "model_id": "da8cca5fd1694a63b51990a4903ba2ed",
       "version_major": 2,
       "version_minor": 0
      },
      "text/plain": [
       "  0%|          | 0/4 [00:00<?, ?it/s]"
      ]
     },
     "metadata": {},
     "output_type": "display_data"
    },
    {
     "name": "stdout",
     "output_type": "stream",
     "text": [
      "Epoch 22: Train Loss = 7.3273, Validation Loss = 315.8620\n"
     ]
    },
    {
     "data": {
      "application/vnd.jupyter.widget-view+json": {
       "model_id": "c9968d78c6f14c88a6c9ea990b66414a",
       "version_major": 2,
       "version_minor": 0
      },
      "text/plain": [
       "  0%|          | 0/14 [00:00<?, ?it/s]"
      ]
     },
     "metadata": {},
     "output_type": "display_data"
    },
    {
     "data": {
      "application/vnd.jupyter.widget-view+json": {
       "model_id": "fea7276d9306468fb362e6d982069e58",
       "version_major": 2,
       "version_minor": 0
      },
      "text/plain": [
       "  0%|          | 0/4 [00:00<?, ?it/s]"
      ]
     },
     "metadata": {},
     "output_type": "display_data"
    },
    {
     "name": "stdout",
     "output_type": "stream",
     "text": [
      "Epoch 23: Train Loss = 3.4505, Validation Loss = 284.7664\n"
     ]
    },
    {
     "data": {
      "application/vnd.jupyter.widget-view+json": {
       "model_id": "07b2b094496040f38af833d992cb512e",
       "version_major": 2,
       "version_minor": 0
      },
      "text/plain": [
       "  0%|          | 0/14 [00:00<?, ?it/s]"
      ]
     },
     "metadata": {},
     "output_type": "display_data"
    },
    {
     "ename": "OutOfMemoryError",
     "evalue": "CUDA out of memory. Tried to allocate 350.00 MiB. GPU 0 has a total capacty of 4.00 GiB of which 0 bytes is free. Of the allocated memory 2.84 GiB is allocated by PyTorch, and 557.82 MiB is reserved by PyTorch but unallocated. If reserved but unallocated memory is large try setting max_split_size_mb to avoid fragmentation.  See documentation for Memory Management and PYTORCH_CUDA_ALLOC_CONF",
     "output_type": "error",
     "traceback": [
      "\u001b[1;31m---------------------------------------------------------------------------\u001b[0m",
      "\u001b[1;31mOutOfMemoryError\u001b[0m                          Traceback (most recent call last)",
      "Cell \u001b[1;32mIn[40], line 6\u001b[0m\n\u001b[0;32m      2\u001b[0m start_epoch \u001b[38;5;241m=\u001b[39m \u001b[38;5;241m1\u001b[39m\n\u001b[0;32m      4\u001b[0m \u001b[38;5;28;01mfor\u001b[39;00m epoch \u001b[38;5;129;01min\u001b[39;00m \u001b[38;5;28mrange\u001b[39m(start_epoch, \u001b[38;5;241m100\u001b[39m \u001b[38;5;241m+\u001b[39m \u001b[38;5;241m1\u001b[39m):\n\u001b[0;32m      5\u001b[0m     \u001b[38;5;66;03m# Training Phase\u001b[39;00m\n\u001b[1;32m----> 6\u001b[0m     train_loss \u001b[38;5;241m=\u001b[39m train_one_epoch(\n\u001b[0;32m      7\u001b[0m         model\u001b[38;5;241m=\u001b[39mmodel,\n\u001b[0;32m      8\u001b[0m         dataloader\u001b[38;5;241m=\u001b[39mtrain_dataloader,\n\u001b[0;32m      9\u001b[0m         optimizer\u001b[38;5;241m=\u001b[39moptimizer,\n\u001b[0;32m     10\u001b[0m         scheduler\u001b[38;5;241m=\u001b[39mscheduler,\n\u001b[0;32m     11\u001b[0m         criterion\u001b[38;5;241m=\u001b[39mcriterial,\n\u001b[0;32m     12\u001b[0m         fabric\u001b[38;5;241m=\u001b[39mfabric,\n\u001b[0;32m     13\u001b[0m         epoch\u001b[38;5;241m=\u001b[39mepoch,\n\u001b[0;32m     14\u001b[0m         num_steps\u001b[38;5;241m=\u001b[39m\u001b[38;5;28mlen\u001b[39m(train_dataloader),\n\u001b[0;32m     15\u001b[0m         mode\u001b[38;5;241m=\u001b[39m\u001b[38;5;124m\"\u001b[39m\u001b[38;5;124mtrain\u001b[39m\u001b[38;5;124m\"\u001b[39m\n\u001b[0;32m     16\u001b[0m     )\n\u001b[0;32m     18\u001b[0m     \u001b[38;5;66;03m# Validation Phase\u001b[39;00m\n\u001b[0;32m     19\u001b[0m     val_loss \u001b[38;5;241m=\u001b[39m train_one_epoch(\n\u001b[0;32m     20\u001b[0m         model\u001b[38;5;241m=\u001b[39mmodel,\n\u001b[0;32m     21\u001b[0m         dataloader\u001b[38;5;241m=\u001b[39mval_dataloader,\n\u001b[1;32m   (...)\u001b[0m\n\u001b[0;32m     29\u001b[0m         eval_step\u001b[38;5;241m=\u001b[39m\u001b[38;5;241m5\u001b[39m  \u001b[38;5;66;03m# Adjust eval_step as needed\u001b[39;00m\n\u001b[0;32m     30\u001b[0m     )\n",
      "Cell \u001b[1;32mIn[39], line 24\u001b[0m, in \u001b[0;36mtrain_one_epoch\u001b[1;34m(model, dataloader, optimizer, scheduler, criterion, fabric, epoch, num_steps, mode, eval_step)\u001b[0m\n\u001b[0;32m     22\u001b[0m     fabric\u001b[38;5;241m.\u001b[39mclip_gradients(model, optimizer, max_norm\u001b[38;5;241m=\u001b[39m\u001b[38;5;241m2.0\u001b[39m, error_if_nonfinite\u001b[38;5;241m=\u001b[39m\u001b[38;5;28;01mFalse\u001b[39;00m)\n\u001b[0;32m     23\u001b[0m     \u001b[38;5;66;03m# Backward pass and optimization (only if training)\u001b[39;00m\n\u001b[1;32m---> 24\u001b[0m     fabric\u001b[38;5;241m.\u001b[39mbackward(loss)\n\u001b[0;32m     25\u001b[0m     optimizer\u001b[38;5;241m.\u001b[39mstep()\n\u001b[0;32m     27\u001b[0m \u001b[38;5;28;01melse\u001b[39;00m:  \u001b[38;5;66;03m# Validation mode\u001b[39;00m\n",
      "File \u001b[1;32mc:\\Users\\kagad\\anaconda\\Lib\\site-packages\\lightning\\fabric\\fabric.py:444\u001b[0m, in \u001b[0;36mFabric.backward\u001b[1;34m(self, tensor, model, *args, **kwargs)\u001b[0m\n\u001b[0;32m    442\u001b[0m lightning\u001b[38;5;241m.\u001b[39mfabric\u001b[38;5;241m.\u001b[39mwrappers\u001b[38;5;241m.\u001b[39m_in_fabric_backward \u001b[38;5;241m=\u001b[39m \u001b[38;5;28;01mTrue\u001b[39;00m\n\u001b[0;32m    443\u001b[0m \u001b[38;5;28;01mtry\u001b[39;00m:\n\u001b[1;32m--> 444\u001b[0m     \u001b[38;5;28mself\u001b[39m\u001b[38;5;241m.\u001b[39m_strategy\u001b[38;5;241m.\u001b[39mbackward(tensor, module, \u001b[38;5;241m*\u001b[39margs, \u001b[38;5;241m*\u001b[39m\u001b[38;5;241m*\u001b[39mkwargs)\n\u001b[0;32m    445\u001b[0m \u001b[38;5;28;01mfinally\u001b[39;00m:\n\u001b[0;32m    446\u001b[0m     lightning\u001b[38;5;241m.\u001b[39mfabric\u001b[38;5;241m.\u001b[39mwrappers\u001b[38;5;241m.\u001b[39m_in_fabric_backward \u001b[38;5;241m=\u001b[39m \u001b[38;5;28;01mFalse\u001b[39;00m\n",
      "File \u001b[1;32mc:\\Users\\kagad\\anaconda\\Lib\\site-packages\\lightning\\fabric\\strategies\\strategy.py:188\u001b[0m, in \u001b[0;36mStrategy.backward\u001b[1;34m(self, tensor, module, *args, **kwargs)\u001b[0m\n\u001b[0;32m    186\u001b[0m \u001b[38;5;250m\u001b[39m\u001b[38;5;124mr\u001b[39m\u001b[38;5;124;03m\"\"\"Forwards backward-calls to the precision plugin.\"\"\"\u001b[39;00m\n\u001b[0;32m    187\u001b[0m \u001b[38;5;28mself\u001b[39m\u001b[38;5;241m.\u001b[39mprecision\u001b[38;5;241m.\u001b[39mpre_backward(tensor, module)\n\u001b[1;32m--> 188\u001b[0m \u001b[38;5;28mself\u001b[39m\u001b[38;5;241m.\u001b[39mprecision\u001b[38;5;241m.\u001b[39mbackward(tensor, module, \u001b[38;5;241m*\u001b[39margs, \u001b[38;5;241m*\u001b[39m\u001b[38;5;241m*\u001b[39mkwargs)\n\u001b[0;32m    189\u001b[0m \u001b[38;5;28mself\u001b[39m\u001b[38;5;241m.\u001b[39mprecision\u001b[38;5;241m.\u001b[39mpost_backward(tensor, module)\n",
      "File \u001b[1;32mc:\\Users\\kagad\\anaconda\\Lib\\site-packages\\lightning\\fabric\\plugins\\precision\\precision.py:107\u001b[0m, in \u001b[0;36mPrecision.backward\u001b[1;34m(self, tensor, model, *args, **kwargs)\u001b[0m\n\u001b[0;32m     99\u001b[0m \u001b[38;5;28;01mdef\u001b[39;00m \u001b[38;5;21mbackward\u001b[39m(\u001b[38;5;28mself\u001b[39m, tensor: Tensor, model: Optional[Module], \u001b[38;5;241m*\u001b[39margs: Any, \u001b[38;5;241m*\u001b[39m\u001b[38;5;241m*\u001b[39mkwargs: Any) \u001b[38;5;241m-\u001b[39m\u001b[38;5;241m>\u001b[39m \u001b[38;5;28;01mNone\u001b[39;00m:\n\u001b[0;32m    100\u001b[0m \u001b[38;5;250m    \u001b[39m\u001b[38;5;124;03m\"\"\"Performs the actual backpropagation.\u001b[39;00m\n\u001b[0;32m    101\u001b[0m \n\u001b[0;32m    102\u001b[0m \u001b[38;5;124;03m    Args:\u001b[39;00m\n\u001b[1;32m   (...)\u001b[0m\n\u001b[0;32m    105\u001b[0m \n\u001b[0;32m    106\u001b[0m \u001b[38;5;124;03m    \"\"\"\u001b[39;00m\n\u001b[1;32m--> 107\u001b[0m     tensor\u001b[38;5;241m.\u001b[39mbackward(\u001b[38;5;241m*\u001b[39margs, \u001b[38;5;241m*\u001b[39m\u001b[38;5;241m*\u001b[39mkwargs)\n",
      "File \u001b[1;32mc:\\Users\\kagad\\anaconda\\Lib\\site-packages\\torch\\_tensor.py:492\u001b[0m, in \u001b[0;36mTensor.backward\u001b[1;34m(self, gradient, retain_graph, create_graph, inputs)\u001b[0m\n\u001b[0;32m    482\u001b[0m \u001b[38;5;28;01mif\u001b[39;00m has_torch_function_unary(\u001b[38;5;28mself\u001b[39m):\n\u001b[0;32m    483\u001b[0m     \u001b[38;5;28;01mreturn\u001b[39;00m handle_torch_function(\n\u001b[0;32m    484\u001b[0m         Tensor\u001b[38;5;241m.\u001b[39mbackward,\n\u001b[0;32m    485\u001b[0m         (\u001b[38;5;28mself\u001b[39m,),\n\u001b[1;32m   (...)\u001b[0m\n\u001b[0;32m    490\u001b[0m         inputs\u001b[38;5;241m=\u001b[39minputs,\n\u001b[0;32m    491\u001b[0m     )\n\u001b[1;32m--> 492\u001b[0m torch\u001b[38;5;241m.\u001b[39mautograd\u001b[38;5;241m.\u001b[39mbackward(\n\u001b[0;32m    493\u001b[0m     \u001b[38;5;28mself\u001b[39m, gradient, retain_graph, create_graph, inputs\u001b[38;5;241m=\u001b[39minputs\n\u001b[0;32m    494\u001b[0m )\n",
      "File \u001b[1;32mc:\\Users\\kagad\\anaconda\\Lib\\site-packages\\torch\\autograd\\__init__.py:251\u001b[0m, in \u001b[0;36mbackward\u001b[1;34m(tensors, grad_tensors, retain_graph, create_graph, grad_variables, inputs)\u001b[0m\n\u001b[0;32m    246\u001b[0m     retain_graph \u001b[38;5;241m=\u001b[39m create_graph\n\u001b[0;32m    248\u001b[0m \u001b[38;5;66;03m# The reason we repeat the same comment below is that\u001b[39;00m\n\u001b[0;32m    249\u001b[0m \u001b[38;5;66;03m# some Python versions print out the first line of a multi-line function\u001b[39;00m\n\u001b[0;32m    250\u001b[0m \u001b[38;5;66;03m# calls in the traceback and some print out the last line\u001b[39;00m\n\u001b[1;32m--> 251\u001b[0m Variable\u001b[38;5;241m.\u001b[39m_execution_engine\u001b[38;5;241m.\u001b[39mrun_backward(  \u001b[38;5;66;03m# Calls into the C++ engine to run the backward pass\u001b[39;00m\n\u001b[0;32m    252\u001b[0m     tensors,\n\u001b[0;32m    253\u001b[0m     grad_tensors_,\n\u001b[0;32m    254\u001b[0m     retain_graph,\n\u001b[0;32m    255\u001b[0m     create_graph,\n\u001b[0;32m    256\u001b[0m     inputs,\n\u001b[0;32m    257\u001b[0m     allow_unreachable\u001b[38;5;241m=\u001b[39m\u001b[38;5;28;01mTrue\u001b[39;00m,\n\u001b[0;32m    258\u001b[0m     accumulate_grad\u001b[38;5;241m=\u001b[39m\u001b[38;5;28;01mTrue\u001b[39;00m,\n\u001b[0;32m    259\u001b[0m )\n",
      "\u001b[1;31mOutOfMemoryError\u001b[0m: CUDA out of memory. Tried to allocate 350.00 MiB. GPU 0 has a total capacty of 4.00 GiB of which 0 bytes is free. Of the allocated memory 2.84 GiB is allocated by PyTorch, and 557.82 MiB is reserved by PyTorch but unallocated. If reserved but unallocated memory is large try setting max_split_size_mb to avoid fragmentation.  See documentation for Memory Management and PYTORCH_CUDA_ALLOC_CONF"
     ]
    }
   ],
   "source": [
    "# Main training loop with wandb integration\n",
    "start_epoch = 1\n",
    "\n",
    "for epoch in range(start_epoch, 100 + 1):\n",
    "    # Training Phase\n",
    "    train_loss = train_one_epoch(\n",
    "        model=model,\n",
    "        dataloader=train_dataloader,\n",
    "        optimizer=optimizer,\n",
    "        scheduler=scheduler,\n",
    "        criterion=criterial,\n",
    "        fabric=fabric,\n",
    "        epoch=epoch,\n",
    "        num_steps=len(train_dataloader),\n",
    "        mode=\"train\"\n",
    "    )\n",
    "\n",
    "    # Validation Phase\n",
    "    val_loss = train_one_epoch(\n",
    "        model=model,\n",
    "        dataloader=val_dataloader,\n",
    "        optimizer=optimizer,\n",
    "        scheduler=scheduler,\n",
    "        criterion=criterial,\n",
    "        fabric=fabric,\n",
    "        epoch=epoch,\n",
    "        num_steps=len(val_dataloader),\n",
    "        mode=\"val\",\n",
    "        eval_step=5  # Adjust eval_step as needed\n",
    "    )\n",
    "\n",
    "    print(f\"Epoch {epoch}: Train Loss = {train_loss:.4f}, Validation Loss = {val_loss:.4f}\")\n",
    "\n",
    "        # Log epoch results to wandb\n",
    "    wandb.log({\"train_loss\": train_loss, \"val_loss\": val_loss, \"epoch\": epoch})\n",
    "\n",
    "        # Early stopping and checkpoint logic\n",
    "    # early_stopping(val_loss)\n",
    "    # if early_stopping.save_current_checkpoint:\n",
    "    #     checkpoint(epoch, train_loss, val_loss, model, optimizer, scheduler)\n",
    "    # if early_stopping.early_stop:\n",
    "    #     print(\"Early stopping triggered. Ending training.\")\n",
    "    #     break\n",
    "\n",
    "# Finish the wandb run\n",
    "wandb.finish()"
   ]
  },
  {
   "cell_type": "code",
   "execution_count": 25,
   "metadata": {},
   "outputs": [],
   "source": [
    "from tqdm.notebook import tqdm\n",
    "def train(mode, epoch, dataloader, num_steps, eval_step = 5):\n",
    "    if mode == \"train\":\n",
    "        model.train()\n",
    "        prefix = \"train\"\n",
    "    else:\n",
    "        model.eval()\n",
    "        prefix = \"val\"\n",
    "    \n",
    "    running_loss = 0.0\n",
    "    accumulated_metrics = {\n",
    "                            \"silog\": 0.0, \"abs_rel\": 0.0, \"log10\": 0.0, \n",
    "                            \"rms\": 0.0, \"sq_rel\": 0.0, \"log_rms\": 0.0, \n",
    "                            \"mae\": 0.0, \"d1\": 0.0, \"d2\": 0.0, \"d3\": 0.0\n",
    "                        }\n",
    "    \n",
    "    pbar = tqdm(enumerate(dataloader, start=1), total=num_steps, leave=True)\n",
    "\n",
    "    for steps, (image, radar_img, ground_truth, mmde_map) in pbar:\n",
    "\n",
    "        if mode == \"train\":\n",
    "            depth_map = model(image, radar_img, mmde_map)\n",
    "            mask = depth_map > 0.01\n",
    "            loss = criterial(depth_map, ground_truth, mask)\n",
    "            fabric.backward(loss)\n",
    "            optimizer.step()\n",
    "            scheduler.step()\n",
    "            optimizer.zero_grad()\n",
    "\n",
    "        elif mode == \"val\":\n",
    "            with torch.no_grad():\n",
    "                depth_map = model(image, radar_img, mmde_map)\n",
    "                mask = depth_map > 0.01\n",
    "                loss = criterial(depth_map, ground_truth, mask)\n",
    "\n",
    "                if epoch == eval_step:\n",
    "                    batch_metrics = compute_errors_batches(ground_truth, depth_map)\n",
    "                        \n",
    "                    for key in accumulated_metrics.keys():\n",
    "                        accumulated_metrics[key] += batch_metrics[key]      \n",
    "\n",
    "        \n",
    "        running_loss += loss.item()\n",
    "    for key in accumulated_metrics.keys():\n",
    "            accumulated_metrics[key] /= num_steps\n",
    "    from prettytable import PrettyTable\n",
    "    # Create a PrettyTable to display metrics\n",
    "    table = PrettyTable()\n",
    "    table.field_names = [\"Metric\", \"Value\"]\n",
    "\n",
    "    # Populate the table with averaged error metrics\n",
    "    for metric, value in accumulated_metrics.items():\n",
    "        table.add_row([metric, f\"{value:.4f}\"])\n",
    "\n",
    "    # Print the table\n",
    "    print(table)\n",
    "    #if steps == num_steps:\n",
    "    final_loss = running_loss / num_steps\n",
    "    pbar.set_description(f\"Epoch:[{epoch}/{num_epochs}]\")\n",
    "    pbar_postfix_dict = {f\"{prefix}_loss\": final_loss,\n",
    "                        \"lr\": scheduler.get_last_lr()[0]}\n",
    "    \n",
    "    pbar.set_postfix(pbar_postfix_dict)\n",
    "\n",
    "    return final_loss\n"
   ]
  },
  {
   "cell_type": "code",
   "execution_count": 45,
   "metadata": {},
   "outputs": [],
   "source": [
    "from torch.utils.tensorboard import SummaryWriter\n",
    "writer = SummaryWriter(log_dir=\"runs/depth_estimation_experiment\")"
   ]
  },
  {
   "cell_type": "code",
   "execution_count": null,
   "metadata": {},
   "outputs": [],
   "source": [
    "for epoch in range(1, num_epochs + 1):\n",
    "\n",
    "    train_loss = 0.0\n",
    "    val_loss = 0.0\n",
    "    num_val_batches = 0\n",
    "\n",
    "    for i, (image, radar_img, mmde_map, ground_truth) in enumerate(train_dataloader):\n",
    "\n",
    "        optimizer.zero_grad()\n",
    "\n",
    "        # Forward pass\n",
    "        depth_map = model(image, radar_img, mmde_map)\n",
    "        mask = depth_map > 0.01\n",
    "        loss = criterial(depth_map, ground_truth, mask)\n",
    "\n",
    "        # Backward pass and optimization\n",
    "        fabric.backward(loss)\n",
    "        optimizer.step()\n",
    "        scheduler.step()\n",
    "\n",
    "        train_loss += loss.item()\n",
    "        writer.add_scalar(\"Train_Loss/Batch\", loss.item(), epoch * len(train_dataloader) + i)\n",
    "\n",
    "    for i, (image, radar_img, mmde_map, ground_truth) in enumerate(val_dataloader):\n",
    "        if epoch % 2 == 0:\n",
    "            with torch.no_grad():\n",
    "                depth_map = model(image, radar_img, mmde_map)\n",
    "                mask = depth_map > 0.01\n",
    "                val_loss_batch = criterial(depth_map, ground_truth, mask).item()\n",
    "                val_loss += val_loss_batch\n",
    "                writer.add_scalar(\"Val_Loss/Batch\", val_loss_batch, epoch * len(val_dataloader) + i)\n",
    "\n",
    "    # Average train loss\n",
    "    avg_train_loss = train_loss / len(train_dataloader)\n",
    "\n",
    "    # Average validation loss (if calculated)\n",
    "    if epoch % 2 == 0:\n",
    "        avg_val_loss = val_loss / num_val_batches\n",
    "    else:\n",
    "        avg_val_loss = None  # Keep the validation loss undefined for this epoch\n",
    "\n",
    "    # Logging to TensorBoard\n",
    "    writer.add_scalar(\"Train_Loss/Epoch\", avg_train_loss, epoch)\n",
    "    if avg_val_loss is not None:\n",
    "        writer.add_scalar(\"Val_Loss/Epoch\", avg_val_loss, epoch)\n",
    "\n",
    "    # Print epoch summary\n",
    "    if avg_val_loss is not None:\n",
    "        print(f\"Epoch {epoch}: Train Loss = {avg_train_loss:.4f}, Validation Loss = {avg_val_loss:.4f}\")\n",
    "    else:\n",
    "        print(f\"Epoch {epoch}: Train Loss = {avg_train_loss:.4f}, Validation Loss = Not Calculated\")\n",
    "\n",
    "writer.close()\n",
    "\n",
    "        \n",
    "\n",
    "\n",
    "    "
   ]
  },
  {
   "cell_type": "code",
   "execution_count": null,
   "metadata": {},
   "outputs": [],
   "source": [
    "start_epoch = 1\n",
    "\n",
    "for epoch in range(start_epoch, num_epochs + 1):\n",
    "    train_loss = train(\n",
    "        mode=\"train\",\n",
    "        epoch=epoch,\n",
    "        dataloader=train_dataloader,\n",
    "        num_steps=num_train_steps,\n",
    "        eval_step=5\n",
    "    )\n",
    "\n",
    "    val_loss = train(\n",
    "        mode=\"val\",\n",
    "        epoch=epoch,\n",
    "        dataloader=val_dataloader,\n",
    "        num_steps=num_val_steps,\n",
    "        eval_step=5\n",
    "    )\n",
    "\n",
    "    print(f\"epoch: {epoch}, train_loss: {train_loss}, val_loss: {val_loss}\")\n",
    "\n",
    "    early_stopping(val_loss)\n",
    "    if early_stopping.save_current_checkpoint:\n",
    "        checkpoint(epoch, train_loss, val_loss, model, optimizer, scheduler)\n",
    "\n",
    "    if early_stopping.early_stop:\n",
    "        break\n",
    "    "
   ]
  },
  {
   "cell_type": "code",
   "execution_count": 27,
   "metadata": {},
   "outputs": [],
   "source": [
    "# Initialize a dictionary to store accumulated errors\n",
    "total_errors = {key: 0.0 for key in [\"silog\", \"abs_rel\", \"log10\", \"rms\", \"sq_rel\", \"log_rms\", \"mae\", \"d1\", \"d2\", \"d3\"]}\n",
    "\n",
    "# Iterate through the ground truth and predicted depth maps\n",
    "for dep, pred in zip(depth, pred_depth):\n",
    "    # Compute errors for the current pair of ground truth and prediction\n",
    "    errors = compute_errors(dep, pred)\n",
    "    \n",
    "    # Accumulate errors\n",
    "    for key, value in errors.items():\n",
    "        total_errors[key] += value\n",
    "\n",
    "# Average the errors by dividing by the number of samples\n",
    "num_samples = len(depth)  # Assuming `depth` and `pred_depth` have the same length\n",
    "total_errors = {key: value / num_samples for key, value in total_errors.items()}"
   ]
  }
 ],
 "metadata": {
  "kernelspec": {
   "display_name": "base",
   "language": "python",
   "name": "python3"
  },
  "language_info": {
   "codemirror_mode": {
    "name": "ipython",
    "version": 3
   },
   "file_extension": ".py",
   "mimetype": "text/x-python",
   "name": "python",
   "nbconvert_exporter": "python",
   "pygments_lexer": "ipython3",
   "version": "3.11.5"
  }
 },
 "nbformat": 4,
 "nbformat_minor": 2
}
