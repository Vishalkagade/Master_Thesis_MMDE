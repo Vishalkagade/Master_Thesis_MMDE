{
 "cells": [
  {
   "cell_type": "markdown",
   "metadata": {},
   "source": []
  },
  {
   "cell_type": "code",
   "execution_count": 1,
   "metadata": {},
   "outputs": [],
   "source": [
    "import torch\n",
    "\n",
    "\n",
    "def activation_func(activation_fn):\n",
    "    '''\n",
    "    Select activation function\n",
    "    Arg(s):\n",
    "        activation_fn : str\n",
    "            name of activation function\n",
    "    '''\n",
    "\n",
    "    if 'linear' in activation_fn:\n",
    "        return None\n",
    "    elif 'leaky_relu' in activation_fn:\n",
    "        return torch.nn.LeakyReLU(negative_slope=0.20, inplace=True)\n",
    "    elif 'relu' in activation_fn:\n",
    "        return torch.nn.ReLU()\n",
    "    elif 'elu' in activation_fn:\n",
    "        return torch.nn.ELU()\n",
    "    elif 'sigmoid' in activation_fn:\n",
    "        return torch.nn.Sigmoid()\n",
    "    else:\n",
    "        raise ValueError('Unsupported activation function: {}'.format(activation_fn))"
   ]
  },
  {
   "cell_type": "code",
   "execution_count": 17,
   "metadata": {},
   "outputs": [],
   "source": [
    "class Conv2d(torch.nn.Module):\n",
    "    '''\n",
    "    2D convolution class\n",
    "\n",
    "    Arg(s):\n",
    "        in_channels : int\n",
    "            number of input channels\n",
    "        out_channels : int\n",
    "            number of output channels\n",
    "        kernel_size : int\n",
    "            size of kernel\n",
    "        stride : int\n",
    "            stride of convolution\n",
    "        weight_initializer : str\n",
    "            kaiming_normal, kaiming_uniform, xavier_normal, xavier_uniform\n",
    "        activation_func : func\n",
    "            activation function after convolution\n",
    "        use_batch_norm : bool\n",
    "            if set, then applied batch normalization\n",
    "    '''\n",
    "\n",
    "    def __init__(self,\n",
    "                 in_channels,\n",
    "                 out_channels,\n",
    "                 kernel_size=3,\n",
    "                 stride=1,\n",
    "                 weight_initializer='kaiming_uniform',\n",
    "                 activation_func=torch.nn.LeakyReLU(negative_slope=0.10, inplace=True),\n",
    "                 use_batch_norm=False):\n",
    "        super(Conv2d, self).__init__()\n",
    "\n",
    "        self.use_batch_norm = use_batch_norm\n",
    "        padding = kernel_size // 2\n",
    "\n",
    "        self.conv = torch.nn.Conv2d(\n",
    "            in_channels,\n",
    "            out_channels,\n",
    "            kernel_size=kernel_size,\n",
    "            stride=stride,\n",
    "            padding=padding,\n",
    "            bias=False)\n",
    "\n",
    "        # Select the type of weight initialization, by default kaiming_uniform\n",
    "        if weight_initializer == 'kaiming_normal':\n",
    "            torch.nn.init.kaiming_normal_(self.conv.weight)\n",
    "        elif weight_initializer == 'xavier_normal':\n",
    "            torch.nn.init.xavier_normal_(self.conv.weight)\n",
    "        elif weight_initializer == 'xavier_uniform':\n",
    "            torch.nn.init.xavier_uniform_(self.conv.weight)\n",
    "\n",
    "        self.activation_func = activation_func\n",
    "\n",
    "        if self.use_batch_norm:\n",
    "            self.batch_norm = torch.nn.BatchNorm2d(out_channels)\n",
    "\n",
    "    def forward(self, x):\n",
    "        conv = self.conv(x)\n",
    "        conv = self.batch_norm(conv) if self.use_batch_norm else conv\n",
    "\n",
    "        if self.activation_func is not None:\n",
    "            return self.activation_func(conv)\n",
    "        else:\n",
    "            return conv"
   ]
  },
  {
   "cell_type": "code",
   "execution_count": 105,
   "metadata": {},
   "outputs": [],
   "source": [
    "class TransposeConv2d(torch.nn.Module):\n",
    "    '''\n",
    "    Transpose convolution class\n",
    "\n",
    "    Arg(s):\n",
    "        in_channels : int\n",
    "            number of input channels\n",
    "        out_channels : int\n",
    "            number of output channels\n",
    "        kernel_size : int\n",
    "            size of kernel (k x k)\n",
    "        weight_initializer : str\n",
    "            kaiming_normal, kaiming_uniform, xavier_normal, xavier_uniform\n",
    "        activation_func : func\n",
    "            activation function after convolution\n",
    "        use_batch_norm : bool\n",
    "            if set, then applied batch normalization\n",
    "    '''\n",
    "\n",
    "    def __init__(self,\n",
    "                 in_channels,\n",
    "                 out_channels,\n",
    "                 kernel_size=3,\n",
    "                 weight_initializer='kaiming_uniform',\n",
    "                 activation_func=torch.nn.LeakyReLU(negative_slope=0.10, inplace=True),\n",
    "                 use_batch_norm=False):\n",
    "        super(TransposeConv2d, self).__init__()\n",
    "\n",
    "        self.use_batch_norm = use_batch_norm\n",
    "        padding = kernel_size // 2\n",
    "\n",
    "        self.deconv = torch.nn.ConvTranspose2d(\n",
    "            in_channels,\n",
    "            out_channels,\n",
    "            kernel_size=kernel_size,\n",
    "            stride=2,\n",
    "            padding=padding,\n",
    "            output_padding=1,\n",
    "            bias=False)\n",
    "\n",
    "        # Select the type of weight initialization, by default kaiming_uniform\n",
    "        if weight_initializer == 'kaiming_normal':\n",
    "            torch.nn.init.kaiming_normal_(self.conv.weight)\n",
    "        elif weight_initializer == 'xavier_normal':\n",
    "            torch.nn.init.xavier_normal_(self.conv.weight)\n",
    "        elif weight_initializer == 'xavier_uniform':\n",
    "            torch.nn.init.xavier_uniform_(self.conv.weight)\n",
    "\n",
    "        self.activation_func = activation_func\n",
    "\n",
    "        if self.use_batch_norm:\n",
    "            self.batch_norm = torch.nn.BatchNorm2d(out_channels)\n",
    "\n",
    "    def forward(self, x):\n",
    "        deconv = self.deconv(x)\n",
    "        deconv = self.batch_norm(deconv) if self.use_batch_norm else deconv\n",
    "        if self.activation_func is not None:\n",
    "            return self.activation_func(deconv)\n",
    "        else:\n",
    "            return deconv\n",
    "        \n",
    "class FullyConnected(torch.nn.Module):\n",
    "    '''\n",
    "    Fully connected layer\n",
    "\n",
    "    Arg(s):\n",
    "        in_channels : int\n",
    "            number of input neurons\n",
    "        out_channels : int\n",
    "            number of output neurons\n",
    "        dropout_rate : float\n",
    "            probability to use dropout\n",
    "    '''\n",
    "\n",
    "    def __init__(self,\n",
    "                 in_features,\n",
    "                 out_features,\n",
    "                 weight_initializer='kaiming_uniform',\n",
    "                 activation_func=torch.nn.LeakyReLU(negative_slope=0.10, inplace=True),\n",
    "                 dropout_rate=0.00):\n",
    "        super(FullyConnected, self).__init__()\n",
    "\n",
    "        self.fully_connected = torch.nn.Linear(in_features, out_features)\n",
    "\n",
    "        if weight_initializer == 'kaiming_normal':\n",
    "            torch.nn.init.kaiming_normal_(self.fully_connected.weight)\n",
    "        elif weight_initializer == 'xavier_normal':\n",
    "            torch.nn.init.xavier_normal_(self.fully_connected.weight)\n",
    "        elif weight_initializer == 'xavier_uniform':\n",
    "            torch.nn.init.xavier_uniform_(self.fully_connected.weight)\n",
    "\n",
    "        self.activation_func = activation_func\n",
    "\n",
    "        if dropout_rate > 0.00 and dropout_rate <= 1.00:\n",
    "            self.dropout = torch.nn.Dropout(p=dropout_rate)\n",
    "        else:\n",
    "            self.dropout = None\n",
    "\n",
    "    def forward(self, x):\n",
    "        fully_connected = self.fully_connected(x)\n",
    "\n",
    "        if self.activation_func is not None:\n",
    "            fully_connected = self.activation_func(fully_connected)\n",
    "\n",
    "        if self.dropout is not None:\n",
    "            return self.dropout(fully_connected)\n",
    "        else:\n",
    "            return fully_connected\n",
    "class ResNetBlock(torch.nn.Module):\n",
    "    '''\n",
    "    Basic ResNet block class\n",
    "    Arg(s):\n",
    "        in_channels : int\n",
    "            number of input channels\n",
    "        out_channels : int\n",
    "            number of output channels\n",
    "        stride : int\n",
    "            stride of convolution\n",
    "        weight_initializer : str\n",
    "            kaiming_normal, kaiming_uniform, xavier_normal, xavier_uniform\n",
    "        activation_func : func\n",
    "            activation function after convolution\n",
    "        use_batch_norm : bool\n",
    "            if set, then applied batch normalization\n",
    "    '''\n",
    "\n",
    "    def __init__(self,\n",
    "                 in_channels,\n",
    "                 out_channels,\n",
    "                 stride=1,\n",
    "                 weight_initializer='kaiming_uniform',\n",
    "                 activation_func=torch.nn.LeakyReLU(negative_slope=0.10, inplace=True),\n",
    "                 use_batch_norm=False):\n",
    "        super(ResNetBlock, self).__init__()\n",
    "\n",
    "        self.activation_func = activation_func\n",
    "\n",
    "        self.conv1 = Conv2d(\n",
    "            in_channels,\n",
    "            out_channels,\n",
    "            kernel_size=3,\n",
    "            stride=stride,\n",
    "            weight_initializer=weight_initializer,\n",
    "            activation_func=activation_func,\n",
    "            use_batch_norm=use_batch_norm)\n",
    "\n",
    "        self.conv2 = Conv2d(\n",
    "            out_channels,\n",
    "            out_channels,\n",
    "            kernel_size=3,\n",
    "            stride=1,\n",
    "            weight_initializer=weight_initializer,\n",
    "            activation_func=activation_func,\n",
    "            use_batch_norm=use_batch_norm)\n",
    "\n",
    "        self.projection = Conv2d(\n",
    "            in_channels,\n",
    "            out_channels,\n",
    "            kernel_size=1,\n",
    "            stride=stride,\n",
    "            weight_initializer=weight_initializer,\n",
    "            activation_func=None,\n",
    "            use_batch_norm=False)\n",
    "\n",
    "    def forward(self, x):\n",
    "        # Perform 2 convolutions\n",
    "        conv1 = self.conv1(x)\n",
    "        conv2 = self.conv2(conv1)\n",
    "\n",
    "        # Perform projection if (1) shape does not match (2) channels do not match\n",
    "        in_shape = list(x.shape)\n",
    "        out_shape = list(conv2.shape)\n",
    "        if in_shape[2:4] != out_shape[2:4] or in_shape[1] != out_shape[1]:\n",
    "            X = self.projection(x)\n",
    "        else:\n",
    "            X = x\n",
    "\n",
    "        # f(x) + x\n",
    "        return self.activation_func(conv2 + X)      "
   ]
  },
  {
   "cell_type": "code",
   "execution_count": 110,
   "metadata": {},
   "outputs": [],
   "source": [
    "ten = torch.randn((1,1,4,4))"
   ]
  },
  {
   "cell_type": "code",
   "execution_count": 107,
   "metadata": {},
   "outputs": [],
   "source": [
    "test = ten.unsqueeze(0).unsqueeze(0)"
   ]
  },
  {
   "cell_type": "code",
   "execution_count": 111,
   "metadata": {},
   "outputs": [
    {
     "data": {
      "text/plain": [
       "torch.Size([1, 1, 4, 4])"
      ]
     },
     "execution_count": 111,
     "metadata": {},
     "output_type": "execute_result"
    }
   ],
   "source": [
    "test.shape"
   ]
  },
  {
   "cell_type": "code",
   "execution_count": 113,
   "metadata": {},
   "outputs": [
    {
     "data": {
      "text/plain": [
       "tensor([[[[-0.6770, -0.3093, -1.0020,  1.6975],\n",
       "          [-0.2761, -0.8522,  0.4192, -0.3670],\n",
       "          [-2.2015, -0.1245, -0.0280,  0.6368],\n",
       "          [ 1.2628,  0.4008,  0.5427, -0.2467]]]])"
      ]
     },
     "execution_count": 113,
     "metadata": {},
     "output_type": "execute_result"
    }
   ],
   "source": [
    "ten"
   ]
  },
  {
   "cell_type": "code",
   "execution_count": 68,
   "metadata": {},
   "outputs": [],
   "source": [
    "layer_1 = Conv2d(in_channels=1,out_channels=16)\n",
    "layer_2 = TransposeConv2d(in_channels=16,out_channels=8)\n",
    "layer_3 = FullyConnected(in_features=8,out_features=2)\n"
   ]
  },
  {
   "cell_type": "code",
   "execution_count": 127,
   "metadata": {},
   "outputs": [
    {
     "name": "stdout",
     "output_type": "stream",
     "text": [
      "torch.Size([1, 16, 4, 4])\n"
     ]
    }
   ],
   "source": [
    "\n",
    "block1 = ResNetBlock(in_channels=1,out_channels=16)\n",
    "x = block1(ten)\n",
    "print(x.shape)"
   ]
  },
  {
   "cell_type": "code",
   "execution_count": 126,
   "metadata": {},
   "outputs": [
    {
     "data": {
      "text/plain": [
       "<matplotlib.image.AxesImage at 0x18128029950>"
      ]
     },
     "execution_count": 126,
     "metadata": {},
     "output_type": "execute_result"
    },
    {
     "data": {
      "image/png": "[encoded data removed]",
      "text/plain": [
       "<Figure size 640x480 with 1 Axes>"
      ]
     },
     "metadata": {},
     "output_type": "display_data"
    }
   ],
   "source": [
    "plt.imshow(x.squeeze(0)[0].detach().cpu().numpy())"
   ]
  },
  {
   "cell_type": "code",
   "execution_count": 69,
   "metadata": {},
   "outputs": [
    {
     "data": {
      "text/plain": [
       "torch.Size([1, 16, 4, 4])"
      ]
     },
     "execution_count": 69,
     "metadata": {},
     "output_type": "execute_result"
    }
   ],
   "source": [
    "x = layer_1(test)\n",
    "x.shape"
   ]
  },
  {
   "cell_type": "code",
   "execution_count": 70,
   "metadata": {},
   "outputs": [
    {
     "data": {
      "text/plain": [
       "torch.Size([1, 8, 8, 8])"
      ]
     },
     "execution_count": 70,
     "metadata": {},
     "output_type": "execute_result"
    }
   ],
   "source": [
    "x = layer_2(x)\n",
    "x.shape"
   ]
  },
  {
   "cell_type": "code",
   "execution_count": 71,
   "metadata": {},
   "outputs": [
    {
     "data": {
      "text/plain": [
       "torch.Size([1, 8, 8, 2])"
      ]
     },
     "execution_count": 71,
     "metadata": {},
     "output_type": "execute_result"
    }
   ],
   "source": [
    "x = layer_3(x)\n",
    "x.shape"
   ]
  },
  {
   "cell_type": "code",
   "execution_count": 10,
   "metadata": {},
   "outputs": [
    {
     "data": {
      "text/plain": [
       "tensor([[0.0000, 0.1746, 0.0000, 0.0000],\n",
       "        [0.4597, 2.2726, 0.0000, 0.6749],\n",
       "        [0.7336, 0.0000, 0.7044, 0.0000],\n",
       "        [0.0250, 0.3271, 1.1977, 0.0000]])"
      ]
     },
     "execution_count": 10,
     "metadata": {},
     "output_type": "execute_result"
    }
   ],
   "source": [
    "ten = torch.randn((4,4))\n",
    "x = activation_func('relu')\n",
    "x(ten)"
   ]
  },
  {
   "cell_type": "code",
   "execution_count": 11,
   "metadata": {},
   "outputs": [
    {
     "data": {
      "text/plain": [
       "tensor([[-0.0924,  0.1746, -0.1188, -0.7212],\n",
       "        [ 0.4597,  2.2726, -0.4107,  0.6749],\n",
       "        [ 0.7336, -0.1322,  0.7044, -0.2247],\n",
       "        [ 0.0250,  0.3271,  1.1977, -0.6648]])"
      ]
     },
     "execution_count": 11,
     "metadata": {},
     "output_type": "execute_result"
    }
   ],
   "source": [
    "x = activation_func('elu')\n",
    "x(ten)"
   ]
  },
  {
   "cell_type": "code",
   "execution_count": 12,
   "metadata": {},
   "outputs": [
    {
     "data": {
      "text/plain": [
       "tensor([[-0.0194,  0.1746, -0.0253, -0.2554],\n",
       "        [ 0.4597,  2.2726, -0.1058,  0.6749],\n",
       "        [ 0.7336, -0.0284,  0.7044, -0.0509],\n",
       "        [ 0.0250,  0.3271,  1.1977, -0.2186]])"
      ]
     },
     "execution_count": 12,
     "metadata": {},
     "output_type": "execute_result"
    }
   ],
   "source": [
    "x = activation_func('leaky_relu')\n",
    "x(ten)"
   ]
  },
  {
   "cell_type": "code",
   "execution_count": 95,
   "metadata": {},
   "outputs": [
    {
     "data": {
      "text/plain": [
       "tensor([[0.4952, 0.5435, 0.4937, 0.4365],\n",
       "        [0.6130, 0.9066, 0.4736, 0.6626],\n",
       "        [0.6756, 0.4929, 0.6692, 0.4873],\n",
       "        [0.5063, 0.5811, 0.7681, 0.4456]])"
      ]
     },
     "execution_count": 95,
     "metadata": {},
     "output_type": "execute_result"
    }
   ],
   "source": [
    "x = activation_func('sigmoid')\n",
    "x(ten)"
   ]
  },
  {
   "cell_type": "code",
   "execution_count": 16,
   "metadata": {},
   "outputs": [
    {
     "data": {
      "text/plain": [
       "-0.4806"
      ]
     },
     "execution_count": 16,
     "metadata": {},
     "output_type": "execute_result"
    }
   ],
   "source": [
    "0.0194-0.5"
   ]
  },
  {
   "cell_type": "code",
   "execution_count": null,
   "metadata": {},
   "outputs": [],
   "source": []
  }
 ],
 "metadata": {
  "kernelspec": {
   "display_name": "base",
   "language": "python",
   "name": "python3"
  },
  "language_info": {
   "codemirror_mode": {
    "name": "ipython",
    "version": 3
   },
   "file_extension": ".py",
   "mimetype": "text/x-python",
   "name": "python",
   "nbconvert_exporter": "python",
   "pygments_lexer": "ipython3",
   "version": "3.11.5"
  }
 },
 "nbformat": 4,
 "nbformat_minor": 2
}
